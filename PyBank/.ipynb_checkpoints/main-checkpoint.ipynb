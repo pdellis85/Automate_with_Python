{
 "cells": [
  {
   "cell_type": "code",
   "execution_count": 1,
   "id": "20322c14-fb0b-40fe-b231-2f0c354b279d",
   "metadata": {},
   "outputs": [],
   "source": [
    "# Import the pathlib and csv library\n",
    "from pathlib import Path\n",
    "import csv"
   ]
  },
  {
   "cell_type": "code",
   "execution_count": 2,
   "id": "dc2afdd9-0eb9-42ad-b35a-bccc759518e1",
   "metadata": {},
   "outputs": [],
   "source": [
    "# Set the file path\n",
    "csvpath = Path('/Users/porsheaellis/Desktop/Homework/python-homework/PyBank/budget_data.csv')\n",
    "\n",
    "# Set Variables\n",
    "net_total = 0\n",
    "month_count = 0\n",
    "date_profit = 0\n",
    "date_loss = 0\n",
    "max_profit = 0\n",
    "max_loss = 0\n",
    "avg_change = 0\n",
    "total_change = 0\n",
    "p_net = 0"
   ]
  },
  {
   "cell_type": "code",
   "execution_count": 3,
   "id": "f48f402d-5821-45a8-bccb-55cb4a8855d2",
   "metadata": {},
   "outputs": [
    {
     "name": "stdout",
     "output_type": "stream",
     "text": [
      "-2315.12\n",
      "-2196167\n",
      "1926159\n",
      "38382578\n"
     ]
    }
   ],
   "source": [
    "# Open the input path as a file object\n",
    "with open(csvpath, 'r') as csvfile:\n",
    "    \n",
    "    # Pass in the csv file to the csv.reader() function\n",
    "    # (with ',' as the delmiter/separator) and return the csvreader object\n",
    "    csvreader = csv.reader(csvfile, delimiter=',')\n",
    "    \n",
    "    \n",
    "    # Go to the next row from the start of the file\n",
    "    headers = next(csvreader)\n",
    "\n",
    "    #read the data in the file line by line   \n",
    "    for row in csvreader:\n",
    "        \n",
    "        # create varibles to calculate net total and keep a count of the dates column\n",
    "        net = int(row[1])\n",
    "        net_total += net\n",
    "        month_count += 1 \n",
    "        \n",
    "        # For each new row, find the difference between the last profit/loss and the current profit/loss and then add up the sum of those differences \n",
    "        if month_count > 1:\n",
    "            change = net - p_net\n",
    "            total_change += change\n",
    "        \n",
    "            # Find the row with the greatest decrease in losses (date and amount) based on the result from the difference between the last profit/loss and the current profit/loss\n",
    "            if max_loss == 0:\n",
    "                max_loss = change\n",
    "                date_loss = row[0]\n",
    "            elif change < max_loss:\n",
    "                max_loss = change\n",
    "                date_loss = row[0]\n",
    "                \n",
    "            # greatest increase in profits (date and amount) based on the result from the difference between the last profit/loss and the current profit/loss\n",
    "            if change > max_profit:\n",
    "                max_profit = change\n",
    "                date_profit = row[0]\n",
    "        # this represents the current profit/loss row         \n",
    "        p_net = net\n",
    "        \n",
    "    #average of the changes\n",
    "    avg_change = round(total_change/(month_count - 1),2)\n",
    "\n",
    "print(avg_change)\n",
    "print(max_loss)\n",
    "print(max_profit)\n",
    "print(net_total) "
   ]
  },
  {
   "cell_type": "code",
   "execution_count": 4,
   "id": "f5ce076d-8429-4d87-9d88-b8c7f762d2d2",
   "metadata": {},
   "outputs": [
    {
     "name": "stdout",
     "output_type": "stream",
     "text": [
      "Financial Analysis\n",
      "--------------------------------\n",
      "Total Months: 86\n",
      "Total: $38382578\n",
      "Average Change: $-2315.12\n",
      "Greatest Increase in Profits: Feb-2012 ($1926159)\n",
      "Greatest Decrease in Profits: Sep-2013 ($-2196167)\n"
     ]
    }
   ],
   "source": [
    "# Result Finacial Analysis\n",
    "\n",
    "print(\"Financial Analysis\")\n",
    "print(\"--------------------------------\")\n",
    "print(f\"Total Months: {month_count}\")\n",
    "print(f\"Total: ${net_total}\")\n",
    "print(f\"Average Change: ${avg_change}\")\n",
    "print(f\"Greatest Increase in Profits: {date_profit} (${max_profit})\")\n",
    "print(f\"Greatest Decrease in Profits: {date_loss} (${max_loss})\")"
   ]
  },
  {
   "cell_type": "code",
   "execution_count": 5,
   "id": "f145905f-1d83-4638-a50b-e94320d74eb5",
   "metadata": {},
   "outputs": [],
   "source": [
    "# Set the output file path\n",
    "output_path = Path(\"/Users/porsheaellis/Desktop/Homework/python-homework/PyBank/output.txt\")\n",
    "\n",
    "# Open the output_path as a file object in \"write\" mode ('w')\n",
    "with open(output_path, 'w') as file:\n",
    "    file.write(\"Financial Analysis \\n\")\n",
    "    file.write(\"-------------------------------- \\n\")\n",
    "    file.write(f\"Total Months: {month_count} \\n\")\n",
    "    file.write(f\"Total: $ {net_total} \\n\")\n",
    "    file.write(f\"Average Change: $ {avg_change} \\n\")\n",
    "    file.write(f\"Greatest Increase in Profits:{date_profit} (${max_profit}) \\n\")\n",
    "    file.write(f\"Greatest Decrease in Profits:{date_loss} (${max_loss}) \\n\")\n",
    "    \n",
    "# Close the output_path and create a txt file with lines above \n",
    "    file.close()"
   ]
  },
  {
   "cell_type": "code",
   "execution_count": null,
   "id": "7a297c28-7336-4e25-a702-917674ac334b",
   "metadata": {},
   "outputs": [],
   "source": []
  }
 ],
 "metadata": {
  "kernelspec": {
   "display_name": "Python 3",
   "language": "python",
   "name": "python3"
  },
  "language_info": {
   "codemirror_mode": {
    "name": "ipython",
    "version": 3
   },
   "file_extension": ".py",
   "mimetype": "text/x-python",
   "name": "python",
   "nbconvert_exporter": "python",
   "pygments_lexer": "ipython3",
   "version": "3.7.10"
  }
 },
 "nbformat": 4,
 "nbformat_minor": 5
}
